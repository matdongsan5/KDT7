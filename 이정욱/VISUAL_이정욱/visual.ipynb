{
 "cells": [
  {
   "cell_type": "code",
   "execution_count": 108,
   "metadata": {},
   "outputs": [],
   "source": [
    "## [1] 모듈 로딩\n",
    "import pandas as pd\n",
    "import numpy as np\n",
    "import matplotlib.pyplot as plt\n",
    "import seaborn as sns\n",
    "import streamlit as st\n",
    "\n",
    "import utils\n",
    "# from main import *"
   ]
  },
  {
   "cell_type": "code",
   "execution_count": 109,
   "metadata": {},
   "outputs": [
    {
     "name": "stdout",
     "output_type": "stream",
     "text": [
      "설정된 폰트: NanumGothic\n"
     ]
    }
   ],
   "source": [
    "utils.setHangulFont()"
   ]
  },
  {
   "cell_type": "code",
   "execution_count": 110,
   "metadata": {},
   "outputs": [],
   "source": [
    "lateDF24sh = pd.read_csv('./DATA/result/lateDF24sh.csv', index_col=0)\n",
    "lateDF24shwea = pd.read_csv('./DATA/result/lateDF24shwea.csv', index_col=0)\n",
    "lateDF24shATFM = pd.read_csv('./DATA/result/lateDF24shATFM.csv', index_col=0)"
   ]
  },
  {
   "cell_type": "code",
   "execution_count": 111,
   "metadata": {},
   "outputs": [],
   "source": [
    "lateDF24sh = lateDF24sh.T"
   ]
  },
  {
   "cell_type": "code",
   "execution_count": 112,
   "metadata": {},
   "outputs": [],
   "source": [
    "lateDF24shwea = lateDF24shwea.T"
   ]
  },
  {
   "cell_type": "code",
   "execution_count": 113,
   "metadata": {},
   "outputs": [],
   "source": [
    "lateDF24shATFM = lateDF24shATFM.T"
   ]
  },
  {
   "cell_type": "code",
   "execution_count": 114,
   "metadata": {},
   "outputs": [],
   "source": [
    "# plt.figure(figsize=(12,6))\n",
    "\n",
    "# # 'lateDF24sh'가 DataFrame이라고 가정하고, x와 y축에 사용할 열을 선택합니다.\n",
    "# xdata = lateDF24sh.head(10).index  # 실제 x축 열 이름으로 바꿔주세요\n",
    "# ydata1 = lateDF24sh['7월 합계'].head(10)  # 실제 y축 열 이름으로 바꿔주세요\n",
    "# ydata2 = lateDF24sh['8월 합계'].head(10)  # 실제 y축 열 이름으로 바꿔주세요\n",
    "# ydata3 = lateDF24sh['9월 합계'].head(10)  # 실제 y축 열 이름으로 바꿔주세요\n",
    "# ydata4 = lateDF24sh['10월 합계'].head(10)  # 실제 y축 열 이름으로 바꿔주세요\n",
    "# ydata5 = lateDF24sh['11월 합계'].head(10)  # 실제 y축 열 이름으로 바꿔주세요\n",
    "# ydata6 = lateDF24sh['12월 합계'].head(10)  # 실제 y축 열 이름으로 바꿔주세요\n",
    "\n",
    "# plt.plot(xdata, ydata1)\n",
    "# plt.plot(xdata, ydata2)\n",
    "# plt.plot(xdata, ydata3)\n",
    "# plt.plot(xdata, ydata4)\n",
    "# plt.plot(xdata, ydata5)\n",
    "# plt.plot(xdata, ydata6)\n",
    "# # plt.xlabel(lateDF24sh.index)  # 실제 x축 레이블로 바꿔주세요\n",
    "# # plt.ylabel('Y 축 레이블')  # 실제 y축 레이블로 바꿔주세요\n",
    "# plt.show()\n",
    "\n"
   ]
  },
  {
   "cell_type": "code",
   "execution_count": 115,
   "metadata": {},
   "outputs": [],
   "source": [
    "lateDF24sh = lateDF24sh.drop(columns=lateDF24sh.columns[10:])\n",
    "lateDF24shwea = lateDF24shwea.drop(columns=lateDF24shwea.columns[10:])\n",
    "lateDF24shATFM = lateDF24shATFM.drop(columns=lateDF24shATFM.columns[10:])"
   ]
  },
  {
   "cell_type": "code",
   "execution_count": 116,
   "metadata": {},
   "outputs": [
    {
     "data": {
      "text/html": [
       "<div>\n",
       "<style scoped>\n",
       "    .dataframe tbody tr th:only-of-type {\n",
       "        vertical-align: middle;\n",
       "    }\n",
       "\n",
       "    .dataframe tbody tr th {\n",
       "        vertical-align: top;\n",
       "    }\n",
       "\n",
       "    .dataframe thead th {\n",
       "        text-align: right;\n",
       "    }\n",
       "</style>\n",
       "<table border=\"1\" class=\"dataframe\">\n",
       "  <thead>\n",
       "    <tr style=\"text-align: right;\">\n",
       "      <th></th>\n",
       "      <th>0</th>\n",
       "      <th>1</th>\n",
       "      <th>2</th>\n",
       "      <th>3</th>\n",
       "      <th>4</th>\n",
       "      <th>5</th>\n",
       "      <th>6</th>\n",
       "      <th>7</th>\n",
       "      <th>8</th>\n",
       "      <th>9</th>\n",
       "    </tr>\n",
       "  </thead>\n",
       "  <tbody>\n",
       "    <tr>\n",
       "      <th>7월 합계</th>\n",
       "      <td>2196</td>\n",
       "      <td>1050</td>\n",
       "      <td>258</td>\n",
       "      <td>65</td>\n",
       "      <td>30</td>\n",
       "      <td>11</td>\n",
       "      <td>3</td>\n",
       "      <td>1</td>\n",
       "      <td>0</td>\n",
       "      <td>0</td>\n",
       "    </tr>\n",
       "    <tr>\n",
       "      <th>8월 합계</th>\n",
       "      <td>2130</td>\n",
       "      <td>920</td>\n",
       "      <td>180</td>\n",
       "      <td>42</td>\n",
       "      <td>13</td>\n",
       "      <td>4</td>\n",
       "      <td>1</td>\n",
       "      <td>1</td>\n",
       "      <td>1</td>\n",
       "      <td>0</td>\n",
       "    </tr>\n",
       "    <tr>\n",
       "      <th>9월 합계</th>\n",
       "      <td>1897</td>\n",
       "      <td>822</td>\n",
       "      <td>120</td>\n",
       "      <td>31</td>\n",
       "      <td>10</td>\n",
       "      <td>4</td>\n",
       "      <td>1</td>\n",
       "      <td>0</td>\n",
       "      <td>0</td>\n",
       "      <td>0</td>\n",
       "    </tr>\n",
       "    <tr>\n",
       "      <th>10월 합계</th>\n",
       "      <td>1871</td>\n",
       "      <td>811</td>\n",
       "      <td>147</td>\n",
       "      <td>25</td>\n",
       "      <td>7</td>\n",
       "      <td>0</td>\n",
       "      <td>0</td>\n",
       "      <td>0</td>\n",
       "      <td>0</td>\n",
       "      <td>0</td>\n",
       "    </tr>\n",
       "    <tr>\n",
       "      <th>11월 합계</th>\n",
       "      <td>1909</td>\n",
       "      <td>726</td>\n",
       "      <td>106</td>\n",
       "      <td>42</td>\n",
       "      <td>19</td>\n",
       "      <td>2</td>\n",
       "      <td>4</td>\n",
       "      <td>0</td>\n",
       "      <td>0</td>\n",
       "      <td>0</td>\n",
       "    </tr>\n",
       "    <tr>\n",
       "      <th>12월 합계</th>\n",
       "      <td>2097</td>\n",
       "      <td>962</td>\n",
       "      <td>150</td>\n",
       "      <td>35</td>\n",
       "      <td>5</td>\n",
       "      <td>0</td>\n",
       "      <td>0</td>\n",
       "      <td>0</td>\n",
       "      <td>1</td>\n",
       "      <td>0</td>\n",
       "    </tr>\n",
       "  </tbody>\n",
       "</table>\n",
       "</div>"
      ],
      "text/plain": [
       "           0     1    2   3   4   5  6  7  8  9\n",
       "7월 합계   2196  1050  258  65  30  11  3  1  0  0\n",
       "8월 합계   2130   920  180  42  13   4  1  1  1  0\n",
       "9월 합계   1897   822  120  31  10   4  1  0  0  0\n",
       "10월 합계  1871   811  147  25   7   0  0  0  0  0\n",
       "11월 합계  1909   726  106  42  19   2  4  0  0  0\n",
       "12월 합계  2097   962  150  35   5   0  0  0  1  0"
      ]
     },
     "execution_count": 116,
     "metadata": {},
     "output_type": "execute_result"
    }
   ],
   "source": [
    "lateDF24sh"
   ]
  },
  {
   "cell_type": "code",
   "execution_count": 117,
   "metadata": {},
   "outputs": [
    {
     "data": {
      "text/html": [
       "<div>\n",
       "<style scoped>\n",
       "    .dataframe tbody tr th:only-of-type {\n",
       "        vertical-align: middle;\n",
       "    }\n",
       "\n",
       "    .dataframe tbody tr th {\n",
       "        vertical-align: top;\n",
       "    }\n",
       "\n",
       "    .dataframe thead th {\n",
       "        text-align: right;\n",
       "    }\n",
       "</style>\n",
       "<table border=\"1\" class=\"dataframe\">\n",
       "  <thead>\n",
       "    <tr style=\"text-align: right;\">\n",
       "      <th></th>\n",
       "      <th>0</th>\n",
       "      <th>1</th>\n",
       "      <th>2</th>\n",
       "      <th>3</th>\n",
       "      <th>4</th>\n",
       "      <th>5</th>\n",
       "      <th>6</th>\n",
       "      <th>7</th>\n",
       "      <th>8</th>\n",
       "      <th>9</th>\n",
       "    </tr>\n",
       "  </thead>\n",
       "  <tbody>\n",
       "    <tr>\n",
       "      <th>7월 합계</th>\n",
       "      <td>194</td>\n",
       "      <td>73</td>\n",
       "      <td>21</td>\n",
       "      <td>7</td>\n",
       "      <td>2</td>\n",
       "      <td>2</td>\n",
       "      <td>3</td>\n",
       "      <td>0</td>\n",
       "      <td>0</td>\n",
       "      <td>0</td>\n",
       "    </tr>\n",
       "    <tr>\n",
       "      <th>8월 합계</th>\n",
       "      <td>156</td>\n",
       "      <td>65</td>\n",
       "      <td>26</td>\n",
       "      <td>6</td>\n",
       "      <td>0</td>\n",
       "      <td>0</td>\n",
       "      <td>0</td>\n",
       "      <td>1</td>\n",
       "      <td>1</td>\n",
       "      <td>0</td>\n",
       "    </tr>\n",
       "    <tr>\n",
       "      <th>9월 합계</th>\n",
       "      <td>125</td>\n",
       "      <td>49</td>\n",
       "      <td>5</td>\n",
       "      <td>4</td>\n",
       "      <td>2</td>\n",
       "      <td>1</td>\n",
       "      <td>0</td>\n",
       "      <td>0</td>\n",
       "      <td>0</td>\n",
       "      <td>0</td>\n",
       "    </tr>\n",
       "    <tr>\n",
       "      <th>10월 합계</th>\n",
       "      <td>104</td>\n",
       "      <td>30</td>\n",
       "      <td>9</td>\n",
       "      <td>2</td>\n",
       "      <td>0</td>\n",
       "      <td>0</td>\n",
       "      <td>0</td>\n",
       "      <td>0</td>\n",
       "      <td>0</td>\n",
       "      <td>0</td>\n",
       "    </tr>\n",
       "    <tr>\n",
       "      <th>11월 합계</th>\n",
       "      <td>188</td>\n",
       "      <td>89</td>\n",
       "      <td>30</td>\n",
       "      <td>21</td>\n",
       "      <td>5</td>\n",
       "      <td>3</td>\n",
       "      <td>2</td>\n",
       "      <td>0</td>\n",
       "      <td>0</td>\n",
       "      <td>0</td>\n",
       "    </tr>\n",
       "    <tr>\n",
       "      <th>12월 합계</th>\n",
       "      <td>132</td>\n",
       "      <td>48</td>\n",
       "      <td>11</td>\n",
       "      <td>3</td>\n",
       "      <td>1</td>\n",
       "      <td>0</td>\n",
       "      <td>0</td>\n",
       "      <td>0</td>\n",
       "      <td>0</td>\n",
       "      <td>0</td>\n",
       "    </tr>\n",
       "  </tbody>\n",
       "</table>\n",
       "</div>"
      ],
      "text/plain": [
       "          0   1   2   3  4  5  6  7  8  9\n",
       "7월 합계   194  73  21   7  2  2  3  0  0  0\n",
       "8월 합계   156  65  26   6  0  0  0  1  1  0\n",
       "9월 합계   125  49   5   4  2  1  0  0  0  0\n",
       "10월 합계  104  30   9   2  0  0  0  0  0  0\n",
       "11월 합계  188  89  30  21  5  3  2  0  0  0\n",
       "12월 합계  132  48  11   3  1  0  0  0  0  0"
      ]
     },
     "execution_count": 117,
     "metadata": {},
     "output_type": "execute_result"
    }
   ],
   "source": [
    "lateDF24shwea"
   ]
  },
  {
   "cell_type": "code",
   "execution_count": null,
   "metadata": {},
   "outputs": [
    {
     "data": {
      "image/png": "[encoded data removed]",
      "text/plain": [
       "<Figure size 1200x600 with 1 Axes>"
      ]
     },
     "metadata": {},
     "output_type": "display_data"
    }
   ],
   "source": [
    "plt.figure(figsize = (12,6))\n",
    "\n",
    "xData = lateDF24sh.iloc[:,0]\n",
    "yData1 = lateDF24sh.index\n",
    "\n",
    "yData2 = lateDF24sh.iloc[:,1]\n",
    "\n",
    "\n",
    "# print([xData.min(),xData.mean(), xData.max(),],[yData.min(),yData.mean(),yData.max()])\n",
    "\n",
    "plt.scatter(xData,yData1, s=10)\n",
    "# plt.scatter(xData,yData2, s=20)\n",
    "\n",
    "# plt.fill([xData.max(),xData.mean(), xData.min(),],[yData.min(),yData.mean(),yData.max()], alpha=0.5)\n",
    "\n",
    "\n",
    "# plt.title(f\"{corrSR['mpg']}\")\n",
    "plt.xlabel('mpg')\n",
    "plt.ylabel('weight')\n",
    "# plt.xticks(np.arange(0,200,10))\n",
    "plt.show()\n",
    "\n"
   ]
  },
  {
   "cell_type": "code",
   "execution_count": null,
   "metadata": {},
   "outputs": [],
   "source": []
  }
 ],
 "metadata": {
  "kernelspec": {
   "display_name": "PY39",
   "language": "python",
   "name": "python3"
  },
  "language_info": {
   "codemirror_mode": {
    "name": "ipython",
    "version": 3
   },
   "file_extension": ".py",
   "mimetype": "text/x-python",
   "name": "python",
   "nbconvert_exporter": "python",
   "pygments_lexer": "ipython3",
   "version": "3.9.21"
  }
 },
 "nbformat": 4,
 "nbformat_minor": 2
}
